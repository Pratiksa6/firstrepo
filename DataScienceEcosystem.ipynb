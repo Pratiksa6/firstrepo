{
 "cells": [
  {
   "cell_type": "markdown",
   "id": "3782e924-7f3a-41c0-a552-671b2dc9d7c0",
   "metadata": {},
   "source": [
    "# Data Science Tools and Ecosystem"
   ]
  },
  {
   "cell_type": "markdown",
   "id": "41b9d555-6f6b-4c09-9485-7d21da360b0a",
   "metadata": {},
   "source": [
    "In this notebook,Data Science Tools and Ecosystem are summarized.\n",
    "**Objectives :**\n",
    "-  To understand the key aspects of Data Science.\n",
    "-  To familiarize Open Source, Cloud based and Commercial options for Data Science Tools.\n",
    "-  To learn about different Data Science Tools,Libraries and Languages."
   ]
  },
  {
   "cell_type": "markdown",
   "id": "809a36de-d83a-44e6-ae23-a1e1538c7c6d",
   "metadata": {},
   "source": [
    "Some of the popular languages that Data Scientists use are:\n",
    "1. R\n",
    "2. Python\n",
    "3. SQL"
   ]
  },
  {
   "cell_type": "markdown",
   "id": "727e3d26-5b68-443e-adda-b90c54a1dcad",
   "metadata": {},
   "source": [
    "Some of the commonly used libraries used by Data Scientists include:\n",
    "1. Panda\n",
    "2. Numpy\n",
    "3. Matplotlib"
   ]
  },
  {
   "cell_type": "markdown",
   "id": "99216579-2b1b-4c60-a291-4e2a6c1409c4",
   "metadata": {
    "tags": []
   },
   "source": [
    "|Data Science Tools|\n",
    "-----------------\n",
    "| SAS |\n",
    "| KNIME |\n",
    "| Weka |"
   ]
  },
  {
   "cell_type": "markdown",
   "id": "d8ff9ade-de79-4db7-abd6-7d6840094971",
   "metadata": {},
   "source": [
    "### Below are a few examples of evaluating arithmetic expressions in Python."
   ]
  },
  {
   "cell_type": "code",
   "execution_count": 3,
   "id": "7d2d388a-d28c-4041-8cee-4beeca401c48",
   "metadata": {
    "tags": []
   },
   "outputs": [
    {
     "data": {
      "text/plain": [
       "17"
      ]
     },
     "execution_count": 3,
     "metadata": {},
     "output_type": "execute_result"
    }
   ],
   "source": [
    "#This is simple arithmetic expression to multiply then add integers.\n",
    "(3*4)+5"
   ]
  },
  {
   "cell_type": "code",
   "execution_count": 4,
   "id": "b12158a5-1174-43c1-bd93-63050dd8d69b",
   "metadata": {
    "tags": []
   },
   "outputs": [
    {
     "data": {
      "text/plain": [
       "3.3333333333333335"
      ]
     },
     "execution_count": 4,
     "metadata": {},
     "output_type": "execute_result"
    }
   ],
   "source": [
    "#This will convert 200 minutes to hours by dividing by 60.\n",
    "200/60"
   ]
  },
  {
   "cell_type": "markdown",
   "id": "fc1befa1-0bcf-4da1-a60d-fa7c24c5c2f4",
   "metadata": {},
   "source": [
    "## Author\n",
    "Pratiksa"
   ]
  },
  {
   "cell_type": "code",
   "execution_count": null,
   "id": "342afa2e-2295-4eae-a513-c401ffb8a114",
   "metadata": {},
   "outputs": [],
   "source": []
  }
 ],
 "metadata": {
  "kernelspec": {
   "display_name": "Python",
   "language": "python",
   "name": "conda-env-python-py"
  },
  "language_info": {
   "codemirror_mode": {
    "name": "ipython",
    "version": 3
   },
   "file_extension": ".py",
   "mimetype": "text/x-python",
   "name": "python",
   "nbconvert_exporter": "python",
   "pygments_lexer": "ipython3",
   "version": "3.7.12"
  }
 },
 "nbformat": 4,
 "nbformat_minor": 5
}
